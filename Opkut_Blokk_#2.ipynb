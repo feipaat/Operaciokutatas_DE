{
 "cells": [
  {
   "cell_type": "markdown",
   "metadata": {},
   "source": [
    "# <center>Operációkutatás</center>\n",
    "\n",
    "## <center>Fekete Imre</center>\n",
    "<br>\n",
    "<br>\n",
    "\n"
   ]
  },
  {
   "cell_type": "markdown",
   "metadata": {},
   "source": [
    "## A szimplex algoritmus\n",
    "<br><br>\n",
    "\n",
    "#### Motivációs példa a szimplex algoritmushoz\n",
    "A Bőripari Kft. kétfajta övet készít: a luxus modellt és az egyszerűt. Mindegyikhez 1nm bőr szükséges. Az egyszerű öv elkészítéséhez 1 órányi, a luxushoz pedig 2 órányi szakmunka szükséges. Minden héten 40nm bőr és 60 órányi szakmunkakeret áll rendelkezésre. Minden közönséges övből 3$, minden luxus övből pedig 4$ profit származik. Maximalizáljuk a profitot!\n",
    "\n",
    "<br><br>\n",
    "#### Bázisváltozók és bázison kívüli (nembázis) változók\n",
    "\n",
    "<br>\n",
    "<b>Def.</b> Az $Ax=b$ egyenletrendszer egy <b>bázismegoldása</b> úgy kapható meg, hogy $n-m$ változót nullának veszünk és megoldjuk az egyenletrendszert a fennmaradó $m$ változóra. Ez azt feltételezi, hogy $n-m$ változót $0$-nak véve egyértelmű megoldást kapunk a fennmaradó $m$ változóra, illetve, ami ugyenezt jelenti, a fennmaradó $m$ változó oszlopai lineárisan függetlenek.\n",
    "<br><br>\n",
    "\n",
    "#### Lehetséges és szomszédos lehetséges bázismegoldások\n",
    "\n",
    "\n",
    "<br>\n",
    "<b>Def.</b> A standard alakú egyenletrendszer bármely olyan bázismegoldása, amelyben minden változó nemnegatív, egy <b>lehetséges bázismegoldás</b> (vagy <b>lbm</b>).\n",
    "<br><br>\n",
    "\n",
    "<b>Tétel.</b> Bármely LP feladat lehetséges tartománya konvex halmaz. Továbbá, ha egy LP feladatnak van optimális megoldása, akkor a lehetséges tartományban lennie kell egy olyan extremális pontnak, amelyik optimális.\n",
    "<br><br>\n",
    "\n",
    "<b>Tétel.</b> Bármely LP feladat esetében igaz, hogy az LP lehetséges tartományában minden egyes lehetséges bázismegoldáshoz egyetlen extremális pont tartozik. Ugyanakkor a lehetséges tartomány minden extremális pontjához pedig legalább egy lehetséges bázismegoldás tartozik.\n",
    "<br><br>\n",
    "\n",
    "<b>Def.</b> Tetszőleges $m$ feltétellel rendelkező LP feladat esetében két lehetséges bázismegoldást <b>szomszédos lehetséges bázismegoldásnak</b> nevezünk, ha bázisváltozóik halmazában $m-1$ változó közös."
   ]
  },
  {
   "cell_type": "markdown",
   "metadata": {},
   "source": [
    "<br>\n",
    "#### Egy termelési probléma\n",
    "\n",
    "<br>\n",
    "A Dakota Bútorkészítő Cég íróasztalokat, asztalokat és székeket gyárt. Mindegyik bútortípus gyártásához faanyag és kétféle szakmunka szükséges: durva asztalosmunka és felületkezelés. Az egyes bútortípusok előállításához a különböző erőforrásokból szükséges mennyiséget az alábbi táblázat adja meg:"
   ]
  },
  {
   "cell_type": "markdown",
   "metadata": {},
   "source": [
    "<table style=\"width:100%\">\n",
    "  <tr>\n",
    "    <th>Erőforrás</th>\n",
    "    <th>Íróasztal</th>\n",
    "    <th>Asztal</th> \n",
    "    <th>Szék</th>\n",
    "  </tr>\n",
    "  <tr>\n",
    "    <td>Faanyag</td>\n",
    "    <td>8 egység</td>\n",
    "    <td>6 egység</td>\n",
    "    <td>1 egység</td>\n",
    "  </tr>\n",
    "  <tr>\n",
    "    <td>Felületkezelés</td>\n",
    "    <td>4 óra</td>\n",
    "    <td>2 óra</td>\n",
    "    <td>1.5 óra</td>\n",
    "  </tr>\n",
    "  <tr>\n",
    "    <td>Asztalosmunka</td>\n",
    "    <td>2 óra</td>\n",
    "    <td>1.5 óra</td>\n",
    "    <td>0.5 óra</td>\n",
    "  </tr>\n",
    "</table>\n"
   ]
  },
  {
   "cell_type": "markdown",
   "metadata": {},
   "source": [
    "Jelenleg 48 egység faanyag, 20 órányi felületkezelés és 8 óra asztalosmunka kapacitás áll rendelkezésre. Egy íróasztal 60, egy asztal 30, egy szék pedig 20$-ért adható el. A Dakota cég azt gondolja, hogy íróasztalokra és székekre korlátlan kereslet van, de legfeljebb 5 asztal adható el. Mivel az erőforrásokat megvásárolták a cég az összjövedelmét kívánja maximalizálni."
   ]
  },
  {
   "cell_type": "markdown",
   "metadata": {
    "collapsed": true
   },
   "source": [
    "<br>\n",
    "#### A szimplex algoritmus összegzése maximum feladat esetén\n",
    "\n",
    "<br> Az egyes lépések az alábbiak:\n",
    "+ #1 Standard alakra hozás\n",
    "+ #2 Egy lbm meghatározása\n",
    "+ #3 Eldönteni, hogy az aktuális lbm optimális-e. Ha igen, meghatároztuk a feladat optimális megoldását. Ha nem, akkor új bázisba belép változó meghatározása\n",
    "+ #4 Kanonikus alak elkészítése elemi sorműveletek segítségével és térjünk vissza a #3 lépéshez"
   ]
  },
  {
   "cell_type": "markdown",
   "metadata": {
    "collapsed": true
   },
   "source": [
    "#### Egy másik termelési probléma\n",
    "\n",
    "<br>\n",
    "A Breadco Pékség kétféle kenyeret süt: francia és barna kenyeret. Egy egész francia kenyér 36 centért, egy egész barna kenyér pedig 30 centért adható el. Egy egész francia kenyérhez 1 csomag élesztőre és 6 deka lisztre van szükség, egy egész barna kenyérhez pedig 1 csomag élesztőre és 5 deka lisztre. Jelenleg a Breadcónak 5 csomag élősztője és 10 deka lisztje van. További élesztő csomagonként 3 centért, liszt pedig dekánként 4 centért szerezhető be. Fogalmazzuk meg és oldjuk meg a Breadco profitját!"
   ]
  },
  {
   "cell_type": "code",
   "execution_count": null,
   "metadata": {
    "collapsed": true
   },
   "outputs": [],
   "source": []
  }
 ],
 "metadata": {
  "kernelspec": {
   "display_name": "Octave",
   "language": "octave",
   "name": "octave"
  },
  "language_info": {
   "file_extension": ".m",
   "help_links": [
    {
     "text": "GNU Octave",
     "url": "https://www.gnu.org/software/octave/support.html"
    },
    {
     "text": "Octave Kernel",
     "url": "https://github.com/Calysto/octave_kernel"
    },
    {
     "text": "MetaKernel Magics",
     "url": "https://github.com/calysto/metakernel/blob/master/metakernel/magics/README.md"
    }
   ],
   "mimetype": "text/x-octave",
   "name": "octave",
   "version": "4.2.2"
  }
 },
 "nbformat": 4,
 "nbformat_minor": 2
}
