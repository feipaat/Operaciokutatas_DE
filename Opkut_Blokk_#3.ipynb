{
 "cells": [
  {
   "cell_type": "markdown",
   "metadata": {},
   "source": [
    "# <center>Operációkutatás</center>\n",
    "\n",
    "## <center>Fekete Imre</center>\n",
    "<br>\n",
    "<br>\n",
    "\n"
   ]
  },
  {
   "cell_type": "markdown",
   "metadata": {},
   "source": [
    "## A szállítási feladat általános megfogalmazása\n",
    "Egy szállítási feladatban a következő információk szerepelnek\n",
    "+ 1. Az $m$ <b><i>kínálati</i></b> pontból álló halmaz, mely pontokból a szállítás történik. Az $i$-edik kínálati hely legfeljebb $s_i$ egységet képes szállítani\n",
    "+ 2. Az $n$ <b><i>keresleti</i></b> pontból álló halmazm mely pontokba a szállítás történik. A $j$-edik felvevőhelynek legalább $d_j$ egységnyire van szüksége a szállított áruból\n",
    "+ 3. Minden olyan egység, amelyet az $i$-edik kínálati helyen állítanak elő es a $j$-edik felvevőhelyre szállítanak $c_{ij}$ <b><i>szállítási költséggel</i></b> jár.\n",
    "\n",
    "Legyen $x_{ij}$ az $i$-edik kínálati helyről a $j$-edik felvevőhelyre szállított egységek száma. Ekkor az általános alak\n",
    "$$\\min\\sum_{i=1}^{i=m} \\sum_{j=1}^{j=n} c_{ij}x_{ij}$$\n",
    "$$\\sum_{j=1}^{j=n} x_{ij}\\leq s_i\\ (i=1,\\ldots,m)$$\n",
    "$$\\sum_{i=1}^{i=m} x_{ij}\\geq d_j\\ (j=1,\\ldots,n)$$\n",
    "$$x_{ij}\\geq 0\\ (i=1,\\ldots,m;j=1,\\ldots,n)$$\n",
    "\n",
    "Ha egy feladatban a fenti feltételek mellett <i>maximalizálni</i> kell, a problémát ebben az esetben is szállítási feladatnak nevezzük."
   ]
  },
  {
   "cell_type": "markdown",
   "metadata": {},
   "source": [
    "#### Kiegyensúlyozott szállítási feladat\n",
    "Alakja\n",
    "$$\\min\\sum_{i=1}^{i=m} \\sum_{j=1}^{j=n} c_{ij}x_{ij}$$\n",
    "$$\\sum_{j=1}^{j=n} x_{ij}= s_i\\ (i=1,\\ldots,m)$$\n",
    "$$\\sum_{i=1}^{i=m} x_{ij}= d_j\\ (j=1,\\ldots,n)$$\n",
    "$$x_{ij}\\geq 0\\ (i=1,\\ldots,m;j=1,\\ldots,n)$$\n",
    "\n",
    "#### Szállítási feladat kiegyensúlyozása ha az összkínálat meghaladja az összkeresletet\n",
    "Ha az összkínálat meghaladja az összekeresletet, akkor a szállítási feladatot úgy tudjuk kiegyensúlyozni, hogy egy olyan <b><i>fiktív keresleti pontot</i></b> konstruálunk, amelynek az igénye éppen a felesleges kínálati mennyiséggel egyenlő. Mivel a fiktív keresleti pontra való szállítások nem valódi szállítások, ezért ezekhez nulla szállítási költséget rendelünk"
   ]
  },
  {
   "cell_type": "markdown",
   "metadata": {},
   "source": [
    "#### Szállítási feladat kiegyensúlyozása ha az összkínálat meghaladja az összkeresletet\n",
    "Amikor az összkínálat kisebb mint az összkereslet, akkor néhány esetben kívánatos azt a lehetőséget megengedni, hogy a kereslet egy része kielégítetlen maradjon. Ilyen helyzetben a kielégítetlen kereslet gyakran büntetőköltséggel jár.\n",
    "\n",
    "<b>Példa.</b> Két víztároló áll rendelkezésre ahhoz, hogy 3 város vízszükségletét kielégítse. Mindkét víztároló naponta 50 millió köbméter vizet képes szolgáltatni. Mindegyik városnak naponta 40 millió köbméter vízre lenne szüksége. Minden millió köbméter kielégítetlen kereslet büntetőköltséggel jár. Az 1. városban a büntetőköltség 20 dollár, a 2. városban 22 dollár, a 3. városban 23 dollár. Az 1 millió köbméter víz szállítási költsége a víztárolókból az egyes városba a lenti táblázatban látható.\n",
    "<table style=\"width:100%\">\n",
    "      <tr>\n",
    "    <th></th>\n",
    "    <th></th>\n",
    "    <th>Hová</th> \n",
    "    <th></th>\n",
    "  </tr>\n",
    "  <tr>\n",
    "    <th>Honnan</th>\n",
    "    <th>1.város</th>\n",
    "    <th>2.város</th> \n",
    "    <th>3.város</th>\n",
    "  </tr>\n",
    "  <tr>\n",
    "    <td>1.víztároló</td>\n",
    "    <td>7</td>\n",
    "    <td>8</td>\n",
    "    <td>10</td>\n",
    "  </tr>\n",
    "  <tr>\n",
    "    <td>2.víztároló</td>\n",
    "    <td>9</td>\n",
    "    <td>7</td>\n",
    "    <td>8</td>\n",
    "  </tr>\n",
    "</table>"
   ]
  },
  {
   "cell_type": "markdown",
   "metadata": {},
   "source": [
    "## Lbm előállítása a szállítási feladatban\n",
    "\n",
    "<b>Definíció.</b> <b>Huroknak</b> nevezünk egy legalább 4 különböző cellából álló rendezett sorozatot, ha\n",
    "+ bármely 2 egymás után következő cella vagy ugyanabban a sorban, vagy ugyanabban az oszlopban fekszik\n",
    "+ 3 egymás után következő cella nem fekszik ugyanabban a sorban vagy oszlopban\n",
    "+ a sorozat utolsó cellája a sorozat első cellájával vagy közös sorban vagy közös oszlopban fekszik\n",
    "\n",
    "<b>Tétel.</b> Egy kiegyensúlyozott szállítási feladatban, amelyben $m$ kínálati pont és $n$ keresleti pont van, akkor egy $m+n-1$ változóból álló halmazhoz tartozó cellák akkor és csak akkor nem tartalmaznak hurkot, ha ez az $m+n-1$ változó egy bázismegoldást ad. "
   ]
  },
  {
   "cell_type": "markdown",
   "metadata": {},
   "source": [
    "### Hogyan cseréljünk változókat a szállítási feladatban?\n",
    "+ #1 A tanult eljárással határozzuk meg azt a változót, melyet beveszünk a bázisba\n",
    "+ #2 Keressük meg azt a hurkot (bizonyítható, hogy csak egy ilyen hurok létezik), mely tartalmazza a bázisba belépő változót és a többi BV közül néhányat\n",
    "+ #3 Csak a hurokban lévő cellákat számolva jelöljük meg páros cellaként a #2 lépésben kapott olyan cellákat, amelyek a beléptetendő változótól páros (0,2,...) számú cellányira vannak. Hasonló módon jelöljük meg páratlan cellaként azokat, amelyek a beléptetendő változótól számítva páratlan cellányira vannak.\n",
    "+ #4 Keressük meg azt a páratlan cellát, amelyikhez tartozó változó a legkisebb értéket képviseli. Ezt a legkisebb értéket $\\theta$-nak nevezzük. Az a változó fog kilépni a bázisból, amelyik ehhez a legkisebb értékű páratlan cellához tartozik. A BV-k cseréjét úgy hajtjuk végre, hogy minden páratlan cella értékét csökkentjük $\\theta$-val és minden páros cella értékét növeljük $\\theta$-val. A hurokban nem szereplő változók értékei változatlanok maradnak. A BV-k cseréje ezzel megtörtént. Ha $\\theta=0$, akkor a bázisba belépő változók értéke 0 lesz, és egy olyan páratlan, régi BV, amelyiknek az értéke 0 volt ki fog lépni a bázisból. Ebben az esetben már a BV-k cseréje előtt egy degenerált lbm-ünk volt és a csere után is ez a helyzet. Amennyiben a hurokban egynél több páratlan cella egyenlő $\\theta$-val, akkor tetszőlegesen választhatjuk ezek közül az egyik ilyen páratlan cellát arra, hogy a hozzátartozó változó kikerüljön a bázisból; így is egy degenerált lbm-et kapunk eredményül\n"
   ]
  },
  {
   "cell_type": "markdown",
   "metadata": {},
   "source": [
    "## A szállítási szimplex módszer lépései\n",
    "+ #1 Ha a feladat kiegyensúlyozatlan, akkor egyensúlyozzuk ki\n",
    "+ #2 Egy lbm megkeresése az alábbi módszerek egyikével\n",
    "     + Északnyugati sarok módszer\n",
    "     + Minimális költség módszere\n",
    "     + Vogel módszere\n",
    "+ #3 Alkalmazzuk az aktuális lbm-ben a következő összefüggéseket:$$u_1=0\\ \\text{és}\\ u_{i}+v_j=c_{ij}$$ minden BV-re, így megtalálhatjuk $$[u_1\\ u_2\\ \\ldots\\ u_m\\ v_1\\ v_2\\ \\ldots\\ v_n] $$\n",
    "értéket\n",
    "+ #4 Ha minden NBV-re teljesül az $u_i+v_j-c_{ij}\\leq 0$ összefüggés, akkor az aktuális lbm optimális. Ha nem ez a helyzet, akkor a legnagyobb pozitív $u_i+v_j-c_{ij}$ értékhez tartozó $x_{ij}$ értéket léptetjük be a bázisba a bázisváltozó-csere eljárással. Így egy új lbm-hez jutunk\n",
    "+ #5 Az új lbm-re alkalmazzuk a #3 és #4 lépéseket\n",
    "<br><br>\n",
    "\n",
    "#### Maximalizási feladat esetén\n",
    "Az #1-#3 lépések megegyeznek, de a #4 lépést egy új, #4' lépéssel helyettesítjük.\n",
    "+ #4' Ha $u_i+v_j-c_{ij}\\geq 0$ minden NBV-re, akkor az aktuális lbm optimális. Ha nem ez a helyzet, akkor a legnagyobb abszolút értékű negatív $u_i+v_j-c_{ij}$ értékhez tartozó $x_{ij}$ változót léptetjük be a bázisba a bázisváltozó-csere eljárással"
   ]
  }
 ],
 "metadata": {
  "kernelspec": {
   "display_name": "Octave",
   "language": "octave",
   "name": "octave"
  },
  "language_info": {
   "file_extension": ".m",
   "help_links": [
    {
     "text": "GNU Octave",
     "url": "https://www.gnu.org/software/octave/support.html"
    },
    {
     "text": "Octave Kernel",
     "url": "https://github.com/Calysto/octave_kernel"
    },
    {
     "text": "MetaKernel Magics",
     "url": "https://github.com/calysto/metakernel/blob/master/metakernel/magics/README.md"
    }
   ],
   "mimetype": "text/x-octave",
   "name": "octave",
   "version": "4.2.2"
  }
 },
 "nbformat": 4,
 "nbformat_minor": 2
}
