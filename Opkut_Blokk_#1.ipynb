{
 "cells": [
  {
   "cell_type": "markdown",
   "metadata": {},
   "source": [
    "# <center>Operációkutatás</center>\n",
    "\n",
    "## <center>Fekete Imre</center>\n",
    "<br>\n",
    "<br>\n",
    "\n",
    "### Általános információk:\n",
    "+ Honlap: <a href=\"http://imrefekete.web.elte.hu/\" target=\"_blank\"> http://imrefekete.web.elte.hu/</a>\n",
    "+ <a href=\"https://github.com/feipaat/Operaciokutatas_DE\" target=\"_blank\">Anyagok a GitHubon</a>\n",
    "+ Fogadóóra:  online egyeztetés alapján \n",
    "<br><br>\n",
    "\n",
    "### Számonkérés:\n",
    "+ 2 db zárthelyi\n",
    "<br><br>\n",
    "\n",
    "### Irodalom:\n",
    "+ Gyakorlati jegyzet és Jupyter Notebookok\n",
    "+ <a href=\"https://www.libri.hu/konyv/wayne_l_winston.operaciokutatas-i-ii.html\">Wayne L. Winston: Operációkutatás: Módszerek és Alkalmazások, 1. kötet, Aula kiadó, 2003</a>\n",
    "<br><br>\n",
    "\n",
    "### 3 kívánság:\n",
    "\n",
    "<br>\n",
    "<br>\n",
    "\n",
    "\n",
    "<div style=\"width:870 px\"></div>\n",
    "<div style=\"float:left\"><img src=\"questions.jpg\" width=\"450\" title=\"Nyugodtan kérdezzünk!\"/></div>\n",
    "<div style=\"float:left\"><img src=\"practice.jpg\" width=\"400\" title=\"Sokat gyakoroljunk/dolgozzunk otthon!\"/></div>\n",
    "<div style=\"float:left\"><img src=\"positive.jpg\" width=\"870\" title=\"A jó hangulat sokat segít!\"/></div> \n",
    "<div style=\"clear:both\"></div> \n",
    "<br><br>\n"
   ]
  },
  {
   "cell_type": "markdown",
   "metadata": {},
   "source": [
    "### Miről lesz szó a félév során?\n",
    "<br>\n",
    "<br>\n",
    "\n",
    "\n",
    "<div style=\"width:600 px\">\n",
    "<div style=\"float:left\"><img src=\"lpgraph_primal.php\" width=\"350\" title=\"Lineáris programozás_grafikus megoldás\"/></div>\n",
    "<div style=\"float:left\"><img src=\"simplex-method.png\" width=\"450\" title=\"Lineáris programozás_szimplex módszer\"/></div>\n",
    "<div style=\"clear:both\"></div>\n",
    "</div>   \n"
   ]
  },
  {
   "cell_type": "markdown",
   "metadata": {},
   "source": [
    "## Lineáris programozás alapvető definíciói\n",
    "\n",
    "<br>\n",
    "<b>Def.</b> Az $f(x_1,x_2,\\ldots,x_n)$ akkor és csak akkor <b>lineáris függvénye</b> az $x_1,x_2,\\ldots,x_n$ változóknak, ha valamely $c_1,c_2,\\ldots,c_n$ konstansokra $f(x_1,x_2,\\ldots,x_n)=c_1x_1+c_2x_2+\\ldots+c_nx_n$. \n",
    "<br><br>\n",
    "\n",
    "<b>Def.</b> Bármely $f(x_1,x_2,\\ldots,x_n)$ lineáris függvény és tetszőleges $b$ szám esetén $f(x_1,x_2,\\ldots,x_n)\\leq b$ és $f(x_1,x_2,\\ldots,x_n)\\geq b$ <b>lineáris egyenlőtlenségek.</b>\n",
    "<br><br>\n",
    "\n",
    "<b>Def.</b> A <b>lineáris programozási feladat</b> (LP) egy olyan optimalizálási feladat, amelyben a következők történnek:\n",
    "+ Maximalizáljuk (vagy minimalizáljuk) a döntési változók egy <i>lineáris</i> függvényét. A maximalizálandó vagy minimalizálandó függvényt <i>célfüggvénynek</i> nevezzük. \n",
    "+ A döntési változók értékeinek ki kell elégíteniük a <i>korlátozó feltételeket</i>. Minden feltételnek vagy lineáris egyenletnek vagy lineáris egyenlőtlenségenek kell lennie. \n",
    "+ Minden változóhoz tartozik egy <i>előjelkorlátozás</i> (vagy annak hiánya). Bármely $x_i$ változóra az előjelkorlátozás vagy azt írja elő, hogy $x_i$ csak nemnegatív lehet ($x_i\\geq 0$), vagy azt írja elő, hogy $x_i$ előjelkorlátozatlan. \n",
    "\n"
   ]
  },
  {
   "cell_type": "markdown",
   "metadata": {},
   "source": [
    "<br>\n",
    "#### Arányossági feltevések\n",
    "\n",
    "+ A célfüggvénynek minden egyes döntési változóhoz tartozó része arányos a döntési változó értékével.\n",
    "+ Minden egyes feltételben az egyes változók hozzájárulása a feltétel bal oldalához arányos a változó értékével.\n",
    "\n",
    "<br>\n",
    "#### Addivitási feltevések\n",
    "+ A célfüggvénynek bérmelyik változóból származó része független a többi döntési változó értékeitől.\n",
    "+ Minden egyes feltétel bal oldalán egy változó szerepe független a többi változótól.\n",
    "\n",
    "<br>\n",
    "#### Oszhatósági feltevés\n",
    "Az oszthatósági feltevés azt jelenti, hogy mindegyik döntési változó felvehet tört értékeket is. Egy olyan lineáris programozási feladatot, amelyikben néhány, vagy minden változó csak nemnegatív egész értékeket vehet fel <b>egészértékű (integer) programozási feladatnak</b> nevezzük.\n",
    "\n",
    "<br>\n",
    "#### Biztonsági feltevés\n",
    "A bizonyossági feltevés azt mondja ki, hogy minden paraméter (a célfüggvény-együtthatók, a jobb oldala, a technológiai együtthatók) biztosan ismert.\n",
    "\n",
    "<br>\n",
    "#### Lehetséges megoldások halmaza és az optimális megoldás\n",
    "\n",
    "<br>\n",
    "<b>Def.</b> Egy LP <b>lehetséges megoldásainak halmaza</b> az összes olyan pontok halmaza, amelyek kielégítik az LP valamennyi feltételét és az összes előjelkorlátozást. (A lehetséges megoldások halmaza helyett használhatjuk még a következő kifejezéseket is: megvalósítható megoldások halmaza, megvalósítható tartomány, lehetséges tartomány.) Minden olyan pont, amelyik nincs az LP lehetséges megoldásainak halmazában, egy <b>nemlehetséges pont.</b>\n",
    "<br>\n",
    "\n",
    "<b>Def.</b> A maxmalizálási problémában az LP <b>optimális megoldása</b> egy olyan pont a lehetséges megoldások halmazában, amelyikhez a legnagyobb célfüggvényérték tartozik. Hasonló módon egy minimalizálási problémában az optimális megoldás egy olyan pont a lehetséges megoldások halmazában, ahol a célfüggvény értéke a legkisebb.\n",
    "\n"
   ]
  },
  {
   "cell_type": "markdown",
   "metadata": {},
   "source": [
    "### Grafikus megoldás\n",
    "\n",
    "<br>\n",
    "#### Aktív és nemaktív feltételek\n",
    "\n",
    "<br>\n",
    "<b>Def.</b> Egy feltétel <b>aktív</b>, ha a döntési változóknak az optimális megoldáshoz tartozó értékeit a feltételbe helyettesítve a feltétel bal oldala egyenlő a jobb oldallal.\n",
    "\n",
    "<br>\n",
    "<b>Def.</b> Egy feltétel <b>nemaktív</b>, ha a döntési változóknak az optimális megoldáshoz tartozó értékeit a feltételbe helyettesítve a bal oldal nem egyenlő a jobb oldallal.\n",
    "\n",
    "<br>\n",
    "#### Konvex halmazok, extremális pontok és fontos tulajdonságok\n",
    "\n",
    "<br>\n",
    "<b>Def.</b> Pontok $S$ halmaza <b>konvex halmaz</b>, ha $S$ bármely két pontját összekötő szakasz teljes egészében $S$-ben van.\n",
    "\n",
    "<br>\n",
    "<b>Def.</b>\n",
    "Egy konvex $S$ halmaz egy $P$ pontja az $S$ <b>extremális pontja</b>, ha a $P$ végpontja minden olyan szakasznak, amelyik teljes egészében $S$-ben fekszik és tartalmazza a $P$ pontot.\n",
    "\n",
    "<br>\n",
    "Releváns bizonyítható tulajdonságok\n",
    "+ Bármely LP lehetséges megoldásainak halmaza konvex\n",
    "+ Bármely LP lehetséges megoldások halmazában az extremális pontok száma véges\n",
    "+ Minden olyan LP, amelynek van optimális megoldása, tartalmaz egy olyan extremális pontot, amely optimális\n",
    "+ A lehetséges halmaz valamelyik extremális pontjának optimálisnak kell lennie\n"
   ]
  },
  {
   "cell_type": "markdown",
   "metadata": {
    "collapsed": true
   },
   "source": [
    "<br>\n",
    "#### Konklúzió a kétváltozós LP grafikus megoldásai során\n",
    "<br>\n",
    "\n",
    "+ Az LP-nek egyértelmű megoldása van\n",
    "+ Az LP-nek alternatív optimuma van\n",
    "+ Az LP nem megoldható\n",
    "+ Az LP nemkorlátos\n",
    "\n",
    "<br>"
   ]
  },
  {
   "cell_type": "markdown",
   "metadata": {
    "collapsed": true
   },
   "source": [
    "#### Egy termelési modell\n",
    "\n",
    "<br>\n",
    "A Rylon Corporation Brute és Chanelle parfümöt gyárt. Mindkét típusú parfüm gyártásához a szükséges nyersanyagot fontonként 3 dollárért lehet megvásárolni. 1 font nyersanyag feldolgozása a laboratóriumban 1 óra munkát igényel. Minden font feldolgozott nyersanyag 3 deka Normál Brute parfümöt és 4 deka Normál Chanelle parfümöt szolgáltat. A Normál Brute eladási ára dekánként 7 dollár, a Normál Chanelle-é dekánként 6 dollár. A Rylonnak ezenkívül lehetősége van arra is, hogy a Normál Brute és Normál Chanelle parfümöket további eljárás alá vetve előállítsa a Luxus Brute és a Luxus Chanelle parfümöket, melyeknek eladási ára sorrendben 18$\\$ $/deka, illetve 14$\\$$/deka. Minden deka Normál Brute továbbfeldolgozása újabb 3 óra laboratóriumi munkát igényel, 4$\\$$ feldolgozási költséggel jár és 1 deka Luxus Brute parfümöt ad. Minden deka Normál Chanelle további feldolgozása újabb 2 óra laboratóriumi munkát igényel, 4$\\$$ feldolgozási költséggel jár és 1 deka Luxus Chanelle-t szolgáltat. A Rylonnak minden évben 6000 óra laboratóriumi idő áll rendelkezésre és 4000 font a nyersanyagvásárlás felső határa. Fogalmazzunk meg egy LP-t, amelynek megoldása maximalizálja a Rylon profitját! Tételezzük fel, hogy a laboratóriumi órák költsége fix költség."
   ]
  },
  {
   "cell_type": "markdown",
   "metadata": {},
   "source": [
    "#### Egy étrendi feladat\n",
    "\n",
    "<br>\n",
    "Bálint étrendje azt írja elő, hogy minden étel, amit megeszik, a négy ,,alapvető élelmiszercsoport\" egyikéhez tartozzék. Jelenleg a következő négyféle étel áll a rendelkezésére: csokis sütemény, csokifagylalt, kóla és ananászos túrótorta. A csokis sütemény darabja 50 centbe kerül, a csokifagylaltból egy gombóc 20 cent, minden üveg kóla 30 cent, és minden darab ananászos túrótorta 80 centbe kerül. Minden nap el kell fogyasztania legalább 500 kalóriát, 6 deka csokoládét, 10 deka cukrot és 8 deka zsiradékot. Az alábbi táblázat mutatja az élelmiszerek fajtánként tápértékét."
   ]
  },
  {
   "cell_type": "markdown",
   "metadata": {},
   "source": [
    "<table style=\"width:100%\">\n",
    "  <tr>\n",
    "    <th></th>\n",
    "    <th>Kalória</th>\n",
    "    <th>Csokoládék (dekában)</th> \n",
    "    <th>Cukor (dekában)</th>\n",
    "    <th>Zsiradék (dekában)</th>\n",
    "  </tr>\n",
    "  <tr>\n",
    "    <td>Csokis sütemény</td>\n",
    "    <td>400</td>\n",
    "    <td>3</td>\n",
    "    <td>2</td>\n",
    "    <td>2</td>\n",
    "  </tr>\n",
    "  <tr>\n",
    "    <td>Csokifagylalt (1 gombóc)</td>\n",
    "    <td>200</td>\n",
    "    <td>2</td>\n",
    "    <td>2</td>\n",
    "    <td>4</td>\n",
    "  </tr>\n",
    "  <tr>\n",
    "    <td>Kóla (1 üveg)</td>\n",
    "    <td>150</td>\n",
    "    <td>0</td>\n",
    "    <td>4</td>\n",
    "    <td>1</td>\n",
    "  </tr>\n",
    "  <tr>\n",
    "    <td>Ananászos túrótorta (1 szelet)</td>\n",
    "    <td>500</td>\n",
    "    <td>0</td>\n",
    "    <td>4</td>\n",
    "    <td>5</td>\n",
    "  </tr>  \n",
    "</table>\n"
   ]
  },
  {
   "cell_type": "markdown",
   "metadata": {},
   "source": [
    "Fogalmazzunk meg egy LP modellt, amelynek segítségével minimális költséggel elégítheti ki Bálint napi tápértékszükségletét!"
   ]
  },
  {
   "cell_type": "markdown",
   "metadata": {},
   "source": [
    "<br>\n",
    "#### Egy munkaszervezési probléma\n",
    "\n",
    "<br>\n",
    "Egy postahivatalban a hét különböző napjain eltérő számú teljes munkaidejű alkalmazott munkájára van szükség. Az alábbi táblázat mutatja az egyes napokra vonatkozó teljes munkaidejű munkaerő-szükségletet."
   ]
  },
  {
   "cell_type": "markdown",
   "metadata": {},
   "source": [
    "<table style=\"width:100%\">\n",
    "  <tr>\n",
    "    <th></th>\n",
    "    <th>Hány teljes munkaidejű alkalmazott kell</th>\n",
    "  </tr>\n",
    "  <tr>\n",
    "    <td>Hétfő</td>\n",
    "    <td>17</td>\n",
    "  </tr>\n",
    "    <tr>\n",
    "    <td>Kedd</td>\n",
    "    <td>13</td>\n",
    "  </tr>\n",
    "    <tr>\n",
    "    <td>Szerda</td>\n",
    "    <td>15</td>\n",
    "  </tr>\n",
    "    <tr>\n",
    "    <td>Csütörtök</td>\n",
    "    <td>19</td>\n",
    "  </tr>\n",
    "    <tr>\n",
    "    <td>Péntek</td>\n",
    "    <td>14</td>\n",
    "  </tr>\n",
    "    <tr>\n",
    "    <td>Szombat</td>\n",
    "    <td>16</td>\n",
    "  </tr>\n",
    "    <tr>\n",
    "    <td>Vasárnap</td>\n",
    "    <td>11</td>\n",
    "  </tr>\n",
    "</table>"
   ]
  },
  {
   "cell_type": "markdown",
   "metadata": {},
   "source": [
    "A szakszervezeti törvény értelmében minden teljes munkaidejú alkalmazottnak 5 egymást követő napon kell dolgoznia, és ezután 2 szabadnap jár. Például egy olyan alkalmazott, aki hétfőtől péntekig dolgozik, szombat-vasárnap szabadnapos lesz. A postahivatal úgy akarja napi munkaerő-szükségletét kielégíteni, hogy csak teljes munkaidejű alkalmazottakat foglalkoztat. Fogalmazzunk meg egy LP-t, amelyet a postahivatal arra tud használni, hogy a lehető legkevesebb teljes munkaidős alkalmazottat foglalkoztassa!"
   ]
  },
  {
   "cell_type": "code",
   "execution_count": null,
   "metadata": {
    "collapsed": true
   },
   "outputs": [],
   "source": []
  }
 ],
 "metadata": {
  "kernelspec": {
   "display_name": "Octave",
   "language": "octave",
   "name": "octave"
  },
  "language_info": {
   "file_extension": ".m",
   "help_links": [
    {
     "text": "GNU Octave",
     "url": "https://www.gnu.org/software/octave/support.html"
    },
    {
     "text": "Octave Kernel",
     "url": "https://github.com/Calysto/octave_kernel"
    },
    {
     "text": "MetaKernel Magics",
     "url": "https://github.com/calysto/metakernel/blob/master/metakernel/magics/README.md"
    }
   ],
   "mimetype": "text/x-octave",
   "name": "octave",
   "version": "4.2.2"
  }
 },
 "nbformat": 4,
 "nbformat_minor": 2
}
