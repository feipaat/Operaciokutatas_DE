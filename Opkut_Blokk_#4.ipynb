{
 "cells": [
  {
   "cell_type": "markdown",
   "metadata": {},
   "source": [
    "# <center>Operációkutatás</center>\n",
    "\n",
    "## <center>Fekete Imre</center>\n",
    "<br>\n",
    "<br>\n",
    "\n"
   ]
  },
  {
   "cell_type": "markdown",
   "metadata": {},
   "source": [
    "## Hozzárendelési feladat\n",
    "<br>\n",
    "<b>Példa.</b> A Machineconak négy gépe van és négy olyan munka, amelyeket ezeken a gépeken kell elvégezni. Minden egyes gépre egy munkát kell kijelölni, amelyet a gép teljesen elvégez. A lenti táblázat mutatja, hogy az egyes gépeknek az egyes munkákra való beállítása mennyi időt igényel. A Machineco minimalizálni szeretné a négy munka elvégzéséhez szükséges összes beállítási időt. \n",
    "<table style=\"width:100%\">\n",
    "      <tr>\n",
    "    <th></th>\n",
    "    <th></th>\n",
    "    <th>Idő (órában)</th> \n",
    "    <th></th>\n",
    "  </tr>\n",
    "  <tr>\n",
    "    <th></th>\n",
    "    <th>1.munka</th>\n",
    "    <th>2.munka</th> \n",
    "    <th>3.munka</th>\n",
    "    <th>4.munka</th>\n",
    "  </tr>\n",
    "  <tr>\n",
    "    <td>1.gép</td>\n",
    "    <td>14</td>\n",
    "    <td>5</td>\n",
    "    <td>8</td>\n",
    "    <td>7</td>\n",
    "  </tr>\n",
    "  <tr>\n",
    "    <td>2.gép</td>\n",
    "    <td>2</td>\n",
    "    <td>12</td>\n",
    "    <td>6</td>\n",
    "    <td>5</td>\n",
    "  </tr>\n",
    "      <tr>\n",
    "    <td>3.gép</td>\n",
    "    <td>7</td>\n",
    "    <td>8</td>\n",
    "    <td>3</td>\n",
    "    <td>9</td>\n",
    "  </tr>\n",
    "      <tr>\n",
    "    <td>4.gép</td>\n",
    "    <td>2</td>\n",
    "    <td>4</td>\n",
    "    <td>6</td>\n",
    "    <td>10</td>\n",
    "  </tr>\n",
    "</table>\n"
   ]
  },
  {
   "cell_type": "markdown",
   "metadata": {},
   "source": [
    "### A magyar módszer\n",
    "<br>\n",
    "A módszer lépései:\n",
    "\n",
    "+ #1 Keressük meg az $m\\times m$-es költségmátrix minden sorában a legkisebb elemet. Képezzünk egy új mátrixot úgy, hogy a sor minden költségeleméből kivonjuk a legkisebb költségelemet. Ebben az új mátrixban keressük meg minden oszlopban a legkisebb költségelemet. Képezzünk egy új mátrixot (ezt redukált költségmátrixnak nevezzük) úgy, hogy az oszlop minden költségeleméből kivonjuk a legkisebb költségelemet.\n",
    "+ #2 Rajzoljuk be a lehető legkevesebb olyan vonalat (vízszintes és/vagy függőleges), amelyek segítségével a redukált költségmátrixban található összes nulla lefedhető. Ha ehhez $m$ fedővonal szükséges, akkor a mátrixban lévő fedett nullák között rendelkezésünkre áll az optimális megoldás. Ha $m$-nék kevesebb vonallal fedtük le az összes nullát, akkor a #3 lépés következik.\n",
    "+ #3 Keressük meg a redukált költségmátrixban azt a legkisebb nemnulla elemet (nevezzük $k$-nak), amelyiket a #2 lépésben nem fedtünk le. Most vonjuk ki $k$-t a redukált költségmátrix minden nem fedett eleméből, valamint adjunk hozzá $k$-t a kétszer lefedett elemekhez. Térjünk vissza a #2 lépéshez."
   ]
  }
 ],
 "metadata": {
  "kernelspec": {
   "display_name": "Octave",
   "language": "octave",
   "name": "octave"
  },
  "language_info": {
   "file_extension": ".m",
   "help_links": [
    {
     "text": "GNU Octave",
     "url": "https://www.gnu.org/software/octave/support.html"
    },
    {
     "text": "Octave Kernel",
     "url": "https://github.com/Calysto/octave_kernel"
    },
    {
     "text": "MetaKernel Magics",
     "url": "https://github.com/calysto/metakernel/blob/master/metakernel/magics/README.md"
    }
   ],
   "mimetype": "text/x-octave",
   "name": "octave",
   "version": "4.2.2"
  }
 },
 "nbformat": 4,
 "nbformat_minor": 2
}
